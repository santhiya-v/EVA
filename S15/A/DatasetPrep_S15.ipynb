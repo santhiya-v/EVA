{
  "nbformat": 4,
  "nbformat_minor": 0,
  "metadata": {
    "colab": {
      "name": "DatasetPrep_S13.ipynb",
      "provenance": [],
      "collapsed_sections": []
    },
    "kernelspec": {
      "name": "python3",
      "display_name": "Python 3"
    }
  },
  "cells": [
    {
      "cell_type": "code",
      "metadata": {
        "id": "GpXndaGAstj1",
        "colab_type": "code",
        "colab": {
          "base_uri": "https://localhost:8080/",
          "height": 35
        },
        "outputId": "d802acd1-807f-4275-974b-50c449bc1b85"
      },
      "source": [
        "from google.colab import drive\n",
        "drive.mount('/content/gdrive')\n"
      ],
      "execution_count": null,
      "outputs": [
        {
          "output_type": "stream",
          "text": [
            "Drive already mounted at /content/gdrive; to attempt to forcibly remount, call drive.mount(\"/content/gdrive\", force_remount=True).\n"
          ],
          "name": "stdout"
        }
      ]
    },
    {
      "cell_type": "code",
      "metadata": {
        "id": "aIO2mwZ1t3D5",
        "colab_type": "code",
        "colab": {}
      },
      "source": [
        "import os\n",
        "import cv2\n",
        "import random\n",
        "import numpy as np\n",
        "from google.colab.patches import cv2_imshow\n",
        "import zipfile"
      ],
      "execution_count": null,
      "outputs": []
    },
    {
      "cell_type": "code",
      "metadata": {
        "id": "9Q13xrVjt-sr",
        "colab_type": "code",
        "colab": {}
      },
      "source": [
        "def overlay_transparent(background, overlay, x, y):\n",
        "    h, w = overlay.shape[0], overlay.shape[1]\n",
        "\n",
        "    overlay_image = overlay[..., :3]   # First 3 Channel BGR is used as overlay\n",
        "    mask = overlay[..., 3:] / 255.0    # Fourth channel of overlay is used as mask\n",
        "\n",
        "    background[y:y+h, x:x+w] = (1.0 - mask) * background[y:y+h, x:x+w] + mask * overlay_image\n",
        "\n",
        "    return background\n",
        "\n",
        "def overlay_mask(background, overlay, x, y):\n",
        "    h, w = overlay.shape[0], overlay.shape[1]\n",
        "    background[y:y+h, x:x+w] = overlay\n",
        "    return background"
      ],
      "execution_count": null,
      "outputs": []
    },
    {
      "cell_type": "code",
      "metadata": {
        "id": "nrs1R4ov20J7",
        "colab_type": "code",
        "colab": {}
      },
      "source": [
        "basePath = \"/content/gdrive/My Drive/EVA/S15/images\"\n",
        "os.chdir(basePath)"
      ],
      "execution_count": null,
      "outputs": []
    },
    {
      "cell_type": "code",
      "metadata": {
        "id": "N93FHKfxe3rc",
        "colab_type": "code",
        "colab": {}
      },
      "source": [
        "fg_bg_zip = zipfile.ZipFile('fg_bg_1.zip', mode='a', compression=zipfile.ZIP_STORED)\n",
        "fg_bg_mask_zip = zipfile.ZipFile('fg_bg_mask_1.zip', mode='a', compression=zipfile.ZIP_STORED)"
      ],
      "execution_count": null,
      "outputs": []
    },
    {
      "cell_type": "code",
      "metadata": {
        "id": "OmE9H12luBVE",
        "colab_type": "code",
        "colab": {
          "base_uri": "https://localhost:8080/",
          "height": 1000
        },
        "outputId": "37f5863c-711a-4179-c98b-3cd6e296eac6"
      },
      "source": [
        "count = 1\n",
        "for i in range(1, 101):  #bg loop\n",
        "    print(\"Processing Bg ===== \", i, \" ==== count ==== \", count )\n",
        "    bgImgPath = basePath+\"/background/\"+str(i)+\".jpg\"\n",
        "    bgImg = cv2.imread(bgImgPath, cv2.IMREAD_UNCHANGED)\n",
        "    bgHeight = bgImg.shape[0]\n",
        "    bgWidth = bgImg.shape[1]\n",
        "    for j in range(1, 101): #fg loop\n",
        "        fgImgPath = basePath+\"/foreground/\"+str(j)+\".png\"\n",
        "        fgMaskPath = basePath+\"/fg_mask/\"+str(j)+\".jpg\"\n",
        "        fgImg = cv2.imread(fgImgPath, cv2.IMREAD_UNCHANGED)\n",
        "        fgMask = cv2.imread(fgMaskPath, cv2.IMREAD_UNCHANGED)\n",
        "        fgImgFlip = cv2.flip(fgImg, 1)\n",
        "        fgMaskFlip = cv2.flip(fgMask, 1)\n",
        "        fgImgs = [fgImg, fgImgFlip]\n",
        "        fgMasks = [fgMask, fgMaskFlip]\n",
        "        for p in range(len(fgImgs)):\n",
        "            for k in range(20):\n",
        "                bgImgCopy = bgImg.copy()\n",
        "                coords = random.sample(range(0, 112), 2)\n",
        "                fgBg = overlay_transparent(bgImgCopy, fgImgs[p], coords[0], coords[1])\n",
        "                bgMask = np.zeros((bgHeight, bgWidth), dtype=fgMask.dtype)\n",
        "                fgBgMask = overlay_mask(bgMask, fgMasks[p], coords[0], coords[1])\n",
        "                cv2.imwrite(\"fg_bg_tmp.jpg\", fgBg, [cv2.IMWRITE_JPEG_QUALITY, 40])\n",
        "                cv2.imwrite(\"fg_bg_mask.jpg\", fgBgMask, [cv2.IMWRITE_JPEG_QUALITY, 35])\n",
        "                fg_bg_zip.write('fg_bg_tmp.jpg', f'bg_{i:03d}/{count}.jpg')\n",
        "                fg_bg_mask_zip.write('fg_bg_mask.jpg', f'bg_{i:03d}/{count}.jpg')\n",
        "                # cv2.imwrite(basePath+\"/fg_bg/\"+str(count)+\".jpg\", fgBg)\n",
        "                # cv2.imwrite(basePath+\"/fg_bg_mask/\"+str(count)+\".jpg\", fgBgMask)\n",
        "                count += 1\n"
      ],
      "execution_count": null,
      "outputs": [
        {
          "output_type": "stream",
          "text": [
            "Processing Bg =====  1  ==== count ====  1\n",
            "Processing Bg =====  2  ==== count ====  4001\n",
            "Processing Bg =====  3  ==== count ====  8001\n",
            "Processing Bg =====  4  ==== count ====  12001\n",
            "Processing Bg =====  5  ==== count ====  16001\n",
            "Processing Bg =====  6  ==== count ====  20001\n",
            "Processing Bg =====  7  ==== count ====  24001\n",
            "Processing Bg =====  8  ==== count ====  28001\n",
            "Processing Bg =====  9  ==== count ====  32001\n",
            "Processing Bg =====  10  ==== count ====  36001\n",
            "Processing Bg =====  11  ==== count ====  40001\n",
            "Processing Bg =====  12  ==== count ====  44001\n",
            "Processing Bg =====  13  ==== count ====  48001\n",
            "Processing Bg =====  14  ==== count ====  52001\n",
            "Processing Bg =====  15  ==== count ====  56001\n",
            "Processing Bg =====  16  ==== count ====  60001\n",
            "Processing Bg =====  17  ==== count ====  64001\n",
            "Processing Bg =====  18  ==== count ====  68001\n",
            "Processing Bg =====  19  ==== count ====  72001\n",
            "Processing Bg =====  20  ==== count ====  76001\n",
            "Processing Bg =====  21  ==== count ====  80001\n",
            "Processing Bg =====  22  ==== count ====  84001\n",
            "Processing Bg =====  23  ==== count ====  88001\n",
            "Processing Bg =====  24  ==== count ====  92001\n",
            "Processing Bg =====  25  ==== count ====  96001\n",
            "Processing Bg =====  26  ==== count ====  100001\n",
            "Processing Bg =====  27  ==== count ====  104001\n",
            "Processing Bg =====  28  ==== count ====  108001\n",
            "Processing Bg =====  29  ==== count ====  112001\n",
            "Processing Bg =====  30  ==== count ====  116001\n",
            "Processing Bg =====  31  ==== count ====  120001\n",
            "Processing Bg =====  32  ==== count ====  124001\n",
            "Processing Bg =====  33  ==== count ====  128001\n",
            "Processing Bg =====  34  ==== count ====  132001\n",
            "Processing Bg =====  35  ==== count ====  136001\n",
            "Processing Bg =====  36  ==== count ====  140001\n",
            "Processing Bg =====  37  ==== count ====  144001\n",
            "Processing Bg =====  38  ==== count ====  148001\n",
            "Processing Bg =====  39  ==== count ====  152001\n",
            "Processing Bg =====  40  ==== count ====  156001\n",
            "Processing Bg =====  41  ==== count ====  160001\n",
            "Processing Bg =====  42  ==== count ====  164001\n",
            "Processing Bg =====  43  ==== count ====  168001\n",
            "Processing Bg =====  44  ==== count ====  172001\n",
            "Processing Bg =====  45  ==== count ====  176001\n",
            "Processing Bg =====  46  ==== count ====  180001\n",
            "Processing Bg =====  47  ==== count ====  184001\n",
            "Processing Bg =====  48  ==== count ====  188001\n",
            "Processing Bg =====  49  ==== count ====  192001\n",
            "Processing Bg =====  50  ==== count ====  196001\n",
            "Processing Bg =====  51  ==== count ====  200001\n",
            "Processing Bg =====  52  ==== count ====  204001\n",
            "Processing Bg =====  53  ==== count ====  208001\n",
            "Processing Bg =====  54  ==== count ====  212001\n",
            "Processing Bg =====  55  ==== count ====  216001\n",
            "Processing Bg =====  56  ==== count ====  220001\n",
            "Processing Bg =====  57  ==== count ====  224001\n",
            "Processing Bg =====  58  ==== count ====  228001\n",
            "Processing Bg =====  59  ==== count ====  232001\n",
            "Processing Bg =====  60  ==== count ====  236001\n",
            "Processing Bg =====  61  ==== count ====  240001\n",
            "Processing Bg =====  62  ==== count ====  244001\n",
            "Processing Bg =====  63  ==== count ====  248001\n",
            "Processing Bg =====  64  ==== count ====  252001\n",
            "Processing Bg =====  65  ==== count ====  256001\n",
            "Processing Bg =====  66  ==== count ====  260001\n",
            "Processing Bg =====  67  ==== count ====  264001\n",
            "Processing Bg =====  68  ==== count ====  268001\n",
            "Processing Bg =====  69  ==== count ====  272001\n",
            "Processing Bg =====  70  ==== count ====  276001\n",
            "Processing Bg =====  71  ==== count ====  280001\n",
            "Processing Bg =====  72  ==== count ====  284001\n",
            "Processing Bg =====  73  ==== count ====  288001\n",
            "Processing Bg =====  74  ==== count ====  292001\n",
            "Processing Bg =====  75  ==== count ====  296001\n",
            "Processing Bg =====  76  ==== count ====  300001\n",
            "Processing Bg =====  77  ==== count ====  304001\n",
            "Processing Bg =====  78  ==== count ====  308001\n",
            "Processing Bg =====  79  ==== count ====  312001\n",
            "Processing Bg =====  80  ==== count ====  316001\n",
            "Processing Bg =====  81  ==== count ====  320001\n",
            "Processing Bg =====  82  ==== count ====  324001\n",
            "Processing Bg =====  83  ==== count ====  328001\n",
            "Processing Bg =====  84  ==== count ====  332001\n",
            "Processing Bg =====  85  ==== count ====  336001\n",
            "Processing Bg =====  86  ==== count ====  340001\n",
            "Processing Bg =====  87  ==== count ====  344001\n",
            "Processing Bg =====  88  ==== count ====  348001\n",
            "Processing Bg =====  89  ==== count ====  352001\n",
            "Processing Bg =====  90  ==== count ====  356001\n",
            "Processing Bg =====  91  ==== count ====  360001\n",
            "Processing Bg =====  92  ==== count ====  364001\n",
            "Processing Bg =====  93  ==== count ====  368001\n",
            "Processing Bg =====  94  ==== count ====  372001\n",
            "Processing Bg =====  95  ==== count ====  376001\n",
            "Processing Bg =====  96  ==== count ====  380001\n",
            "Processing Bg =====  97  ==== count ====  384001\n",
            "Processing Bg =====  98  ==== count ====  388001\n",
            "Processing Bg =====  99  ==== count ====  392001\n",
            "Processing Bg =====  100  ==== count ====  396001\n"
          ],
          "name": "stdout"
        }
      ]
    },
    {
      "cell_type": "code",
      "metadata": {
        "id": "eAY4LzU3fl4t",
        "colab_type": "code",
        "colab": {}
      },
      "source": [
        "fg_bg_mask_zip.close()\n",
        "fg_bg_zip.close()"
      ],
      "execution_count": null,
      "outputs": []
    }
  ]
}