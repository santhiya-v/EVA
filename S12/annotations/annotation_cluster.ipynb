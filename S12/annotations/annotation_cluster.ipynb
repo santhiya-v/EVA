{
  "nbformat": 4,
  "nbformat_minor": 0,
  "metadata": {
    "colab": {
      "name": "annotation-cluster.ipynb",
      "provenance": [],
      "collapsed_sections": []
    },
    "kernelspec": {
      "name": "python3",
      "display_name": "Python 3"
    }
  },
  "cells": [
    {
      "cell_type": "code",
      "metadata": {
        "id": "M8AUreYSfrJo",
        "colab_type": "code",
        "colab": {
          "base_uri": "https://localhost:8080/",
          "height": 35
        },
        "outputId": "3f880e20-9e52-428e-8ba6-e00d715b89a8"
      },
      "source": [
        "from google.colab import drive\n",
        "drive.mount('/content/drive')"
      ],
      "execution_count": 2,
      "outputs": [
        {
          "output_type": "stream",
          "text": [
            "Drive already mounted at /content/drive; to attempt to forcibly remount, call drive.mount(\"/content/drive\", force_remount=True).\n"
          ],
          "name": "stdout"
        }
      ]
    },
    {
      "cell_type": "markdown",
      "metadata": {
        "id": "-AU6NOTDmjO0",
        "colab_type": "text"
      },
      "source": [
        "#Import"
      ]
    },
    {
      "cell_type": "code",
      "metadata": {
        "id": "wtzRNV-TgTej",
        "colab_type": "code",
        "colab": {}
      },
      "source": [
        "import json\n",
        "import pandas as pd\n",
        "from matplotlib import pyplot as plt\n",
        "from sklearn.cluster import KMeans"
      ],
      "execution_count": 4,
      "outputs": []
    },
    {
      "cell_type": "markdown",
      "metadata": {
        "id": "tiCPLy7Dmnl9",
        "colab_type": "text"
      },
      "source": [
        "# Loading Annotated Data"
      ]
    },
    {
      "cell_type": "code",
      "metadata": {
        "id": "OlDzTIIslQWm",
        "colab_type": "code",
        "colab": {}
      },
      "source": [
        "data = {}\n",
        "with open('/content/drive/My Drive/Colab Notebooks/S12/dog_full_annotations_coco.json') as f:\n",
        "    annotationData = json.load(f)\n",
        "    imageInfo = annotationData['images']\n",
        "    annotationInfo = annotationData['annotations']"
      ],
      "execution_count": 5,
      "outputs": []
    },
    {
      "cell_type": "markdown",
      "metadata": {
        "id": "KqDYNOC6myCu",
        "colab_type": "text"
      },
      "source": [
        "# Parsing Data"
      ]
    },
    {
      "cell_type": "code",
      "metadata": {
        "id": "xwXTnB0Klqzc",
        "colab_type": "code",
        "colab": {}
      },
      "source": [
        "# Saving image data in dict for easy access\n",
        "imageData = {}\n",
        "for i in imageInfo:\n",
        "    imageData[i['id']] = {}\n",
        "    imageData[i['id']]['height'] = i['height']\n",
        "    imageData[i['id']]['width'] = i['width']\n",
        "\n",
        "# Running through annotation information. Note : Some images have more than one bounding box, and they are separate entity in annotations\n",
        "for i in range(len(annotationInfo)):\n",
        "    data[i] = {}\n",
        "    data[i]['image_id'] = annotationInfo[i]['image_id']\n",
        "    data[i]['width'] = imageData[annotationInfo[i]['image_id']]['width']\n",
        "    data[i]['height'] = imageData[annotationInfo[i]['image_id']]['height']\n",
        "    data[i]['bbox_x'] = annotationInfo[i]['bbox'][0]\n",
        "    data[i]['bbox_y'] = annotationInfo[i]['bbox'][1]\n",
        "    data[i]['bbox_cx'] = annotationInfo[i]['bbox'][2]/2   # centroid x = bboox_width/2\n",
        "    data[i]['bbox_cy'] = annotationInfo[i]['bbox'][3]/2   # centroid y = bboox_height/2\n",
        "    data[i]['bbox_width'] = annotationInfo[i]['bbox'][2]\n",
        "    data[i]['bbox_height'] = annotationInfo[i]['bbox'][3]"
      ],
      "execution_count": 6,
      "outputs": []
    },
    {
      "cell_type": "markdown",
      "metadata": {
        "id": "0wNCJRYtnGoi",
        "colab_type": "text"
      },
      "source": [
        "# Normalizing Data"
      ]
    },
    {
      "cell_type": "code",
      "metadata": {
        "id": "rrFl6P0Tltpr",
        "colab_type": "code",
        "colab": {
          "base_uri": "https://localhost:8080/",
          "height": 163
        },
        "outputId": "593145f6-2f89-404c-9d15-719307adb2f9"
      },
      "source": [
        "df = pd.DataFrame.from_dict(data, orient='index')\n",
        "df['N_bbox_x'] = df['bbox_x']/df['width']\n",
        "df['N_bbox_y'] = df['bbox_y']/df['height']\n",
        "df['N_bbox_cx'] = df['bbox_cx']/df['width']\n",
        "df['N_bbox_cy'] = df['bbox_cy']/df['height']\n",
        "df['N_bbox_width'] = df['bbox_width']/df['width']\n",
        "df['N_bbox_height'] = df['bbox_height']/df['height']\n",
        "\n",
        "print(df.head())"
      ],
      "execution_count": 16,
      "outputs": [
        {
          "output_type": "stream",
          "text": [
            "   image_id  width  height  ...  N_bbox_cy  N_bbox_width  N_bbox_height\n",
            "0        48    318     159  ...   0.493711      0.808176       0.987421\n",
            "1        43    284     177  ...   0.480226      0.834507       0.960452\n",
            "2        42    225     225  ...   0.462222      0.573333       0.924444\n",
            "3        50    275     183  ...   0.346995      0.225455       0.693989\n",
            "4        50    275     183  ...   0.409836      0.287273       0.819672\n",
            "\n",
            "[5 rows x 15 columns]\n"
          ],
          "name": "stdout"
        }
      ]
    },
    {
      "cell_type": "code",
      "metadata": {
        "id": "sfaLy194n4LR",
        "colab_type": "code",
        "colab": {
          "base_uri": "https://localhost:8080/",
          "height": 283
        },
        "outputId": "92b5fe01-1acd-4b96-e447-b263d64c360f"
      },
      "source": [
        "plt.scatter(df['N_bbox_cx'], df['N_bbox_cy'])"
      ],
      "execution_count": 18,
      "outputs": [
        {
          "output_type": "execute_result",
          "data": {
            "text/plain": [
              "<matplotlib.collections.PathCollection at 0x7f367ee6c4e0>"
            ]
          },
          "metadata": {
            "tags": []
          },
          "execution_count": 18
        },
        {
          "output_type": "display_data",
          "data": {
            "image/png": "[encoded data removed]",
            "text/plain": [
              "<Figure size 432x288 with 1 Axes>"
            ]
          },
          "metadata": {
            "tags": [],
            "needs_background": "light"
          }
        }
      ]
    },
    {
      "cell_type": "markdown",
      "metadata": {
        "id": "RDcq_eO6nOJu",
        "colab_type": "text"
      },
      "source": [
        "# Finding Optimal K using Elbow method"
      ]
    },
    {
      "cell_type": "code",
      "metadata": {
        "id": "oG9JS_Nqly1V",
        "colab_type": "code",
        "colab": {}
      },
      "source": [
        "import numpy as np\n",
        "X = np.array(list(zip(df['N_bbox_cx'], df['N_bbox_cy'])))\n",
        "\n",
        "wcss = []\n",
        "K = range(1, 11)\n",
        "for k in K:\n",
        "    model = KMeans(n_clusters=k)\n",
        "    model.fit(X)\n",
        "    wcss.append(model.inertia_)"
      ],
      "execution_count": 19,
      "outputs": []
    },
    {
      "cell_type": "code",
      "metadata": {
        "id": "9rk5GPlal50Q",
        "colab_type": "code",
        "colab": {
          "base_uri": "https://localhost:8080/",
          "height": 295
        },
        "outputId": "92de110b-36ee-4e16-b381-5756fc816b36"
      },
      "source": [
        "plt.plot(K, wcss)\n",
        "plt.xlabel('Number of clusters')\n",
        "plt.ylabel('WCSS')\n",
        "plt.title('Elbow Method')\n",
        "plt.show()"
      ],
      "execution_count": 20,
      "outputs": [
        {
          "output_type": "display_data",
          "data": {
            "image/png": "[encoded data removed]",
            "text/plain": [
              "<Figure size 432x288 with 1 Axes>"
            ]
          },
          "metadata": {
            "tags": [],
            "needs_background": "light"
          }
        }
      ]
    },
    {
      "cell_type": "markdown",
      "metadata": {
        "id": "OzL3fCR4nVt8",
        "colab_type": "text"
      },
      "source": [
        "# Using Optimal K in K-Means"
      ]
    },
    {
      "cell_type": "code",
      "metadata": {
        "id": "8h6au7ntl8-9",
        "colab_type": "code",
        "colab": {
          "base_uri": "https://localhost:8080/",
          "height": 72
        },
        "outputId": "6f413396-5ae1-4059-f649-753dd34ab4ec"
      },
      "source": [
        "#Optimal K found to be 3 from above method\n",
        "model = KMeans(n_clusters=3)\n",
        "model.fit(X)"
      ],
      "execution_count": 21,
      "outputs": [
        {
          "output_type": "execute_result",
          "data": {
            "text/plain": [
              "KMeans(algorithm='auto', copy_x=True, init='k-means++', max_iter=300,\n",
              "       n_clusters=3, n_init=10, n_jobs=None, precompute_distances='auto',\n",
              "       random_state=None, tol=0.0001, verbose=0)"
            ]
          },
          "metadata": {
            "tags": []
          },
          "execution_count": 21
        }
      ]
    },
    {
      "cell_type": "code",
      "metadata": {
        "id": "H5zUaNyvmAGd",
        "colab_type": "code",
        "colab": {
          "base_uri": "https://localhost:8080/",
          "height": 283
        },
        "outputId": "e5d34034-34fb-415c-ae92-55cbabda66a4"
      },
      "source": [
        "plt.scatter(X[:,0],X[:,1], c=model.labels_, cmap='viridis')\n",
        "plt.scatter(model.cluster_centers_[:,0],model.cluster_centers_[:,1], color='red', s=300)"
      ],
      "execution_count": 22,
      "outputs": [
        {
          "output_type": "execute_result",
          "data": {
            "text/plain": [
              "<matplotlib.collections.PathCollection at 0x7f367edabb70>"
            ]
          },
          "metadata": {
            "tags": []
          },
          "execution_count": 22
        },
        {
          "output_type": "display_data",
          "data": {
            "image/png": "[encoded data removed]",
            "text/plain": [
              "<Figure size 432x288 with 1 Axes>"
            ]
          },
          "metadata": {
            "tags": [],
            "needs_background": "light"
          }
        }
      ]
    }
  ]
}